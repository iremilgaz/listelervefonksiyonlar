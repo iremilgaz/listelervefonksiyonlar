{
 "cells": [
  {
   "cell_type": "code",
   "execution_count": 5,
   "id": "952e5977",
   "metadata": {},
   "outputs": [
    {
     "name": "stdout",
     "output_type": "stream",
     "text": [
      "bir liste giriniz: muz,çilek,ananas,karpuz,elma,muz,karpuz,kivi\n",
      "muz: 2 kez tekrar etti.\n",
      "karpuz: 2 kez tekrar etti.\n"
     ]
    }
   ],
   "source": [
    "liste = input(\"bir liste giriniz: \").split(\",\")\n",
    "for eleman in set(liste):\n",
    "    tekrar_sayisi = liste.count(eleman)\n",
    "    if tekrar_sayisi > 1:\n",
    "        print(f\"{eleman}: {tekrar_sayisi} kez tekrar etti.\")"
   ]
  },
  {
   "cell_type": "code",
   "execution_count": 6,
   "id": "228421a1",
   "metadata": {},
   "outputs": [
    {
     "name": "stdout",
     "output_type": "stream",
     "text": [
      "rastgele sayılar giriniz: 4,5,8,2,1\n",
      "En büyük ikinci sayı: 5\n"
     ]
    }
   ],
   "source": [
    "liste = list(map(int, input(\"rastgele sayılar giriniz: \").split(\",\")))\n",
    "liste = list(set(liste))  \n",
    "liste.remove(max(liste))\n",
    "print(\"En büyük ikinci sayı:\", max(liste))"
   ]
  },
  {
   "cell_type": "code",
   "execution_count": 7,
   "id": "f3f8b639",
   "metadata": {},
   "outputs": [
    {
     "name": "stdout",
     "output_type": "stream",
     "text": [
      "rastgele sayılar giriniz: 4,1,2,9,6,3\n",
      "Küçükten büyüğe: [1, 2, 3, 4, 6, 9]\n",
      "Büyükten küçüğe: [9, 6, 4, 3, 2, 1]\n"
     ]
    }
   ],
   "source": [
    "liste = list(map(int, input(\"rastgele sayılar giriniz: \").split(\",\")))\n",
    "print(\"Küçükten büyüğe:\", sorted(liste))\n",
    "print(\"Büyükten küçüğe:\", sorted(liste, reverse=True))"
   ]
  },
  {
   "cell_type": "code",
   "execution_count": 8,
   "id": "e7222457",
   "metadata": {},
   "outputs": [
    {
     "name": "stdout",
     "output_type": "stream",
     "text": [
      "rastgele sayılar giriniz: 1,6,3,5\n",
      "Yeni liste: [2, 12, 6, 10]\n"
     ]
    }
   ],
   "source": [
    "liste = list(map(int, input(\"rastgele sayılar giriniz: \").split(\",\")))\n",
    "liste2 = [x * 2 for x in liste]\n",
    "print(\"Yeni liste:\", liste2)"
   ]
  },
  {
   "cell_type": "code",
   "execution_count": 9,
   "id": "f3aaa8e9",
   "metadata": {},
   "outputs": [
    {
     "name": "stdout",
     "output_type": "stream",
     "text": [
      "kelimeler girin ve virgülle ayırın: bugün,hava,çok,güzel\n",
      "karışık liste: ['hava', 'çok', 'güzel', 'bugün']\n"
     ]
    }
   ],
   "source": [
    "import random\n",
    "liste = input(\"kelimeler girin ve virgülle ayırın: \").split(\",\")\n",
    "random.shuffle(liste)\n",
    "print(\"karışık liste:\", liste)"
   ]
  },
  {
   "cell_type": "code",
   "execution_count": null,
   "id": "bca4695a",
   "metadata": {},
   "outputs": [],
   "source": []
  }
 ],
 "metadata": {
  "kernelspec": {
   "display_name": "Python 3 (ipykernel)",
   "language": "python",
   "name": "python3"
  },
  "language_info": {
   "codemirror_mode": {
    "name": "ipython",
    "version": 3
   },
   "file_extension": ".py",
   "mimetype": "text/x-python",
   "name": "python",
   "nbconvert_exporter": "python",
   "pygments_lexer": "ipython3",
   "version": "3.9.12"
  }
 },
 "nbformat": 4,
 "nbformat_minor": 5
}
